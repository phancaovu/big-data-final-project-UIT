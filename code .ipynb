{
 "cells": [
  {
   "cell_type": "code",
   "execution_count": 84,
   "id": "b2335597",
   "metadata": {},
   "outputs": [
    {
     "data": {
      "text/plain": [
       "'C:\\\\spark\\\\spark-3.1.2-bin-hadoop3.2'"
      ]
     },
     "execution_count": 84,
     "metadata": {},
     "output_type": "execute_result"
    }
   ],
   "source": [
    "import findspark \n",
    "findspark.init(r'C:\\spark\\spark-3.1.2-bin-hadoop3.2')\n",
    "findspark.find()"
   ]
  },
  {
   "cell_type": "markdown",
   "id": "880c2842",
   "metadata": {},
   "source": [
    "Import các thư viện cần thiết "
   ]
  },
  {
   "cell_type": "code",
   "execution_count": 85,
   "id": "c3094aef",
   "metadata": {},
   "outputs": [],
   "source": [
    "import pyspark\n",
    "import numpy as np\n",
    "import pandas as pd\n",
    "import matplotlib.pyplot as plt\n",
    "from pyspark.sql.functions import lit\n",
    "from pyspark.sql import functions as Fnc\n",
    "from pyspark.sql.window import Window\n",
    "import seaborn as sns\n",
    "import random\n",
    "from pprint import pprint\n",
    "from pyspark.sql import functions as func\n",
    "from pyspark.sql.functions import monotonically_increasing_id\n",
    "%matplotlib inline\n",
    "sns.set_style(\"darkgrid\")\n",
    "from pyspark.sql.functions import round\n",
    "from pyspark.sql.types import *\n",
    "from pandas.plotting import scatter_matrix\n",
    "import ast\n",
    "from pyspark.sql.functions import udf, array\n",
    "from pyspark.sql.functions import col\n",
    "from pyspark.sql.types import StringType,DoubleType\n",
    "\n",
    "from pyspark.sql import SparkSession\n",
    "spark=SparkSession.builder.appName(\"BigData\").getOrCreate()\n"
   ]
  },
  {
   "cell_type": "markdown",
   "id": "cd57e9e3",
   "metadata": {},
   "source": [
    "Tiến hành đọc dữ liệu data đầu vào và tạo kiểu dữ liệu thuộc tính là struct type "
   ]
  },
  {
   "cell_type": "code",
   "execution_count": 86,
   "id": "e4362808",
   "metadata": {},
   "outputs": [
    {
     "name": "stdout",
     "output_type": "stream",
     "text": [
      "+---------+--------+------------------+-----------+--------------+----------+----------+-------------+------------------+---------------+\n",
      "|longitude|latitude|housing_median_age|total_rooms|total_bedrooms|population|households|median_income|median_house_value|ocean_proximity|\n",
      "+---------+--------+------------------+-----------+--------------+----------+----------+-------------+------------------+---------------+\n",
      "|  -114.31|   34.19|              15.0|     5612.0|        1283.0|    1015.0|     472.0|       1.4936|           66900.0|           null|\n",
      "|  -114.47|    34.4|              19.0|     7650.0|        1901.0|    1129.0|     463.0|         1.82|           80100.0|           null|\n",
      "|  -114.56|   33.69|              17.0|      720.0|         174.0|     333.0|     117.0|       1.6509|           85700.0|           null|\n",
      "|  -114.57|   33.64|              14.0|     1501.0|         337.0|     515.0|     226.0|       3.1917|           73400.0|           null|\n",
      "|  -114.57|   33.57|              20.0|     1454.0|         326.0|     624.0|     262.0|        1.925|           65500.0|           null|\n",
      "|  -114.58|   33.63|              29.0|     1387.0|         236.0|     671.0|     239.0|       3.3438|           74000.0|           null|\n",
      "|  -114.58|   33.61|              25.0|     2907.0|         680.0|    1841.0|     633.0|       2.6768|           82400.0|           null|\n",
      "|  -114.59|   34.83|              41.0|      812.0|         168.0|     375.0|     158.0|       1.7083|           48500.0|           null|\n",
      "|  -114.59|   33.61|              34.0|     4789.0|        1175.0|    3134.0|    1056.0|       2.1782|           58400.0|           null|\n",
      "|   -114.6|   34.83|              46.0|     1497.0|         309.0|     787.0|     271.0|       2.1908|           48100.0|           null|\n",
      "+---------+--------+------------------+-----------+--------------+----------+----------+-------------+------------------+---------------+\n",
      "only showing top 10 rows\n",
      "\n",
      "+---------+--------+------------------+-----------+--------------+----------+----------+-------------+------------------+---------------+\n",
      "|longitude|latitude|housing_median_age|total_rooms|total_bedrooms|population|households|median_income|median_house_value|ocean_proximity|\n",
      "+---------+--------+------------------+-----------+--------------+----------+----------+-------------+------------------+---------------+\n",
      "|  -122.05|   37.37|              27.0|     3885.0|         661.0|    1537.0|     606.0|       6.6085|          344700.0|           null|\n",
      "|   -118.3|   34.26|              43.0|     1510.0|         310.0|     809.0|     277.0|        3.599|          176500.0|           null|\n",
      "|  -117.81|   33.78|              27.0|     3589.0|         507.0|    1484.0|     495.0|       5.7934|          270500.0|           null|\n",
      "|  -118.36|   33.82|              28.0|       67.0|          15.0|      49.0|      11.0|       6.1359|          330000.0|           null|\n",
      "|  -119.67|   36.33|              19.0|     1241.0|         244.0|     850.0|     237.0|       2.9375|           81700.0|           null|\n",
      "|  -119.56|   36.51|              37.0|     1018.0|         213.0|     663.0|     204.0|       1.6635|           67000.0|           null|\n",
      "|  -121.43|   38.63|              43.0|     1009.0|         225.0|     604.0|     218.0|       1.6641|           67000.0|           null|\n",
      "|  -120.65|   35.48|              19.0|     2310.0|         471.0|    1341.0|     441.0|        3.225|          166900.0|           null|\n",
      "|  -122.84|    38.4|              15.0|     3080.0|         617.0|    1446.0|     599.0|       3.6696|          194400.0|           null|\n",
      "|  -118.02|   34.08|              31.0|     2402.0|         632.0|    2830.0|     603.0|       2.3333|          164200.0|           null|\n",
      "+---------+--------+------------------+-----------+--------------+----------+----------+-------------+------------------+---------------+\n",
      "only showing top 10 rows\n",
      "\n"
     ]
    }
   ],
   "source": [
    "data = StructType([\n",
    "    StructField(\"longitude\", DoubleType(), True),\n",
    "    StructField(\"latitude\", DoubleType(), True),\n",
    "    StructField(\"housing_median_age\", DoubleType(), True),\n",
    "    StructField(\"total_rooms\", DoubleType(), True),\n",
    "    StructField(\"total_bedrooms\", DoubleType(), True),\n",
    "    StructField(\"population\", DoubleType(), True),\n",
    "    StructField(\"households\", DoubleType(), True),\n",
    "    StructField(\"median_income\", DoubleType(), True),\n",
    "    StructField(\"median_house_value\", DoubleType(), True),\n",
    "    StructField(\"ocean_proximity\", DoubleType(), True),\n",
    "])\n",
    "\n",
    "data_train = spark.read.csv(r\"D:\\BigData\\Project_Bigdata\\housing_train.csv\", sep =\",\", header=True, schema=data,inferSchema=True, nullValue = 'NA').limit(6000)\n",
    "\n",
    "data_test = spark.read.csv(r\"D:\\BigData\\Project_Bigdata\\housing_test.csv\", sep =\",\", header=True, schema=data,inferSchema=True, nullValue = 'NA').limit(1000)\n",
    "# show data train \n",
    "data_train.show(10)\n",
    "\n",
    "#show data test\n",
    "data_test.show(10)"
   ]
  },
  {
   "cell_type": "markdown",
   "id": "23cd781f",
   "metadata": {},
   "source": [
    "Sau đó ta sẽ tiến hành tạo nhãn nhị phân và gía trị 265000 là giá trị nằm trong khoan giá trị cột median_house_value, giá nhà trên mức này --> gán = 1 (cao), giá nhà thấp hơn mức này gọi là giá thấp(=0)"
   ]
  },
  {
   "cell_type": "code",
   "execution_count": 87,
   "id": "bd5bd92b",
   "metadata": {},
   "outputs": [
    {
     "name": "stdout",
     "output_type": "stream",
     "text": [
      "+---------+--------+------------------+-----------+--------------+----------+----------+-------------+---------------+-----------------------+\n",
      "|longitude|latitude|housing_median_age|total_rooms|total_bedrooms|population|households|median_income|ocean_proximity|median_house_value_high|\n",
      "+---------+--------+------------------+-----------+--------------+----------+----------+-------------+---------------+-----------------------+\n",
      "|  -122.05|   37.37|              27.0|     3885.0|         661.0|    1537.0|     606.0|       6.6085|           null|                      1|\n",
      "|   -118.3|   34.26|              43.0|     1510.0|         310.0|     809.0|     277.0|        3.599|           null|                      0|\n",
      "|  -117.81|   33.78|              27.0|     3589.0|         507.0|    1484.0|     495.0|       5.7934|           null|                      1|\n",
      "|  -118.36|   33.82|              28.0|       67.0|          15.0|      49.0|      11.0|       6.1359|           null|                      1|\n",
      "|  -119.67|   36.33|              19.0|     1241.0|         244.0|     850.0|     237.0|       2.9375|           null|                      0|\n",
      "+---------+--------+------------------+-----------+--------------+----------+----------+-------------+---------------+-----------------------+\n",
      "only showing top 5 rows\n",
      "\n",
      "+---------+--------+------------------+-----------+--------------+----------+----------+-------------+---------------+-----------------------+\n",
      "|longitude|latitude|housing_median_age|total_rooms|total_bedrooms|population|households|median_income|ocean_proximity|median_house_value_high|\n",
      "+---------+--------+------------------+-----------+--------------+----------+----------+-------------+---------------+-----------------------+\n",
      "|  -114.31|   34.19|              15.0|     5612.0|        1283.0|    1015.0|     472.0|       1.4936|           null|                      0|\n",
      "|  -114.47|    34.4|              19.0|     7650.0|        1901.0|    1129.0|     463.0|         1.82|           null|                      0|\n",
      "|  -114.56|   33.69|              17.0|      720.0|         174.0|     333.0|     117.0|       1.6509|           null|                      0|\n",
      "|  -114.57|   33.64|              14.0|     1501.0|         337.0|     515.0|     226.0|       3.1917|           null|                      0|\n",
      "|  -114.57|   33.57|              20.0|     1454.0|         326.0|     624.0|     262.0|        1.925|           null|                      0|\n",
      "+---------+--------+------------------+-----------+--------------+----------+----------+-------------+---------------+-----------------------+\n",
      "only showing top 5 rows\n",
      "\n"
     ]
    }
   ],
   "source": [
    "# Create label \n",
    "threshold = 265000\n",
    "# Kiểm tra nếu giá trị của cột median_house_value\n",
    "median_house_value_high = (Fnc.when(Fnc.col(\"median_house_value\") < threshold, 0).when(Fnc.col(\"median_house_value\") >= threshold, 1))\n",
    "\n",
    "# Drop cột median_house và và thay vào đó là cột median_house_value\n",
    "data_test = data_test.withColumn(\"median_house_value_high\", median_house_value_high).drop('median_house_value')\n",
    "data_train = data_train.withColumn(\"median_house_value_high\", median_house_value_high).drop('median_house_value')\n",
    "\n",
    "data_test.show(5)\n",
    "data_train.show(5)"
   ]
  },
  {
   "cell_type": "markdown",
   "id": "3958fc4e",
   "metadata": {},
   "source": [
    "Ta tiến hành xem thử mean của cột mới là median_house_value_high là bao nhiêu\n",
    "#mean trả về giá trị trung bình của cột là bao nhiêu "
   ]
  },
  {
   "cell_type": "code",
   "execution_count": 88,
   "id": "e9b99905",
   "metadata": {},
   "outputs": [
    {
     "name": "stdout",
     "output_type": "stream",
     "text": [
      "+------------------------------+\n",
      "|meanof_median_house_value_high|\n",
      "+------------------------------+\n",
      "|           0.18766666666666668|\n",
      "+------------------------------+\n",
      "\n"
     ]
    }
   ],
   "source": [
    "from pyspark.sql.functions import mean as _mean, col \n",
    "\n",
    "data_train.select(\n",
    "    _mean(col(\"median_house_value_high\")).alias(\"meanof_median_house_value_high\")\n",
    ").show()"
   ]
  },
  {
   "cell_type": "code",
   "execution_count": 89,
   "id": "bacb2634",
   "metadata": {},
   "outputs": [
    {
     "name": "stdout",
     "output_type": "stream",
     "text": [
      "<class 'pandas.core.frame.DataFrame'>\n",
      "RangeIndex: 6000 entries, 0 to 5999\n",
      "Data columns (total 10 columns):\n",
      " #   Column                   Non-Null Count  Dtype  \n",
      "---  ------                   --------------  -----  \n",
      " 0   longitude                6000 non-null   float64\n",
      " 1   latitude                 6000 non-null   float64\n",
      " 2   housing_median_age       6000 non-null   float64\n",
      " 3   total_rooms              6000 non-null   float64\n",
      " 4   total_bedrooms           6000 non-null   float64\n",
      " 5   population               6000 non-null   float64\n",
      " 6   households               6000 non-null   float64\n",
      " 7   median_income            6000 non-null   float64\n",
      " 8   ocean_proximity          0 non-null      float64\n",
      " 9   median_house_value_high  6000 non-null   int32  \n",
      "dtypes: float64(9), int32(1)\n",
      "memory usage: 445.4 KB\n"
     ]
    }
   ],
   "source": [
    "data_train.toPandas().info()"
   ]
  },
  {
   "cell_type": "markdown",
   "id": "d75d52f0",
   "metadata": {},
   "source": [
    "Đếm số dòng trong cột dữ liệu "
   ]
  },
  {
   "cell_type": "code",
   "execution_count": 90,
   "id": "96b99976",
   "metadata": {},
   "outputs": [
    {
     "data": {
      "text/plain": [
       "6000"
      ]
     },
     "execution_count": 90,
     "metadata": {},
     "output_type": "execute_result"
    }
   ],
   "source": [
    "data_train.count()"
   ]
  },
  {
   "cell_type": "code",
   "execution_count": 91,
   "id": "9afb0778",
   "metadata": {},
   "outputs": [
    {
     "name": "stdout",
     "output_type": "stream",
     "text": [
      "<class 'pandas.core.frame.DataFrame'>\n",
      "RangeIndex: 1000 entries, 0 to 999\n",
      "Data columns (total 10 columns):\n",
      " #   Column                   Non-Null Count  Dtype  \n",
      "---  ------                   --------------  -----  \n",
      " 0   longitude                1000 non-null   float64\n",
      " 1   latitude                 1000 non-null   float64\n",
      " 2   housing_median_age       1000 non-null   float64\n",
      " 3   total_rooms              1000 non-null   float64\n",
      " 4   total_bedrooms           1000 non-null   float64\n",
      " 5   population               1000 non-null   float64\n",
      " 6   households               1000 non-null   float64\n",
      " 7   median_income            1000 non-null   float64\n",
      " 8   ocean_proximity          0 non-null      float64\n",
      " 9   median_house_value_high  1000 non-null   int32  \n",
      "dtypes: float64(9), int32(1)\n",
      "memory usage: 74.3 KB\n"
     ]
    }
   ],
   "source": [
    "data_test.toPandas().info()"
   ]
  },
  {
   "cell_type": "code",
   "execution_count": 92,
   "id": "45f9d817",
   "metadata": {},
   "outputs": [
    {
     "data": {
      "text/plain": [
       "1000"
      ]
     },
     "execution_count": 92,
     "metadata": {},
     "output_type": "execute_result"
    }
   ],
   "source": [
    "data_test.count()"
   ]
  },
  {
   "cell_type": "code",
   "execution_count": 93,
   "id": "e77ea69c",
   "metadata": {},
   "outputs": [
    {
     "name": "stdout",
     "output_type": "stream",
     "text": [
      "+---------+--------+------------------+-----------+--------------+----------+----------+-------------+---------------+-----------------------+\n",
      "|longitude|latitude|housing_median_age|total_rooms|total_bedrooms|population|households|median_income|ocean_proximity|median_house_value_high|\n",
      "+---------+--------+------------------+-----------+--------------+----------+----------+-------------+---------------+-----------------------+\n",
      "|  -117.81|   34.12|              23.0|     7063.0|        1176.0|    3100.0|    1112.0|       4.8229|           null|                      0|\n",
      "|   -117.9|   33.88|              28.0|     2696.0|         346.0|     947.0|     356.0|       9.0055|           null|                      1|\n",
      "|   -118.2|   33.99|              30.0|     1474.0|         459.0|    1844.0|     464.0|        2.551|           null|                      0|\n",
      "|  -117.45|    34.1|               9.0|     4288.0|        1017.0|    3156.0|     900.0|       2.7827|           null|                      0|\n",
      "|  -117.75|   34.09|              36.0|     3094.0|         556.0|    1672.0|     545.0|       4.2143|           null|                      0|\n",
      "+---------+--------+------------------+-----------+--------------+----------+----------+-------------+---------------+-----------------------+\n",
      "only showing top 5 rows\n",
      "\n"
     ]
    }
   ],
   "source": [
    "from pyspark.sql.functions import rand\n",
    "data_train=data_train.orderBy(rand())\n",
    "data_train.show(5)"
   ]
  },
  {
   "cell_type": "markdown",
   "id": "9e208b72",
   "metadata": {},
   "source": [
    "Ta tiến hành đưa các giá trị của cột về trong khoảng từ 0 đến 1 giúp bình đẳng các cột ảnh hướng lên kết quả dự báo "
   ]
  },
  {
   "cell_type": "code",
   "execution_count": 94,
   "id": "934133f2",
   "metadata": {},
   "outputs": [
    {
     "name": "stdout",
     "output_type": "stream",
     "text": [
      "+--------------------+-------------------+------------------+--------------------+-------------------+-------------------+-------------------+-------------------+-----------------------+\n",
      "|           longitude|           latitude|housing_median_age|         total_rooms|     total_bedrooms|         population|         households|      median_income|median_house_value_high|\n",
      "+--------------------+-------------------+------------------+--------------------+-------------------+-------------------+-------------------+-------------------+-----------------------+\n",
      "| 0.10256410256410062|0.32848232848232795|              0.42| 0.18613417688150785|  0.214664472481258|0.08672496916694697|0.21399652978600348|  0.298133818843878|                    0.0|\n",
      "| 0.07948717948717661|0.27858627858627916|              0.52| 0.07101621194147885| 0.0628999817151216|0.02637627536719363|0.06824754193175246| 0.5865850126205157|                    1.0|\n",
      "|0.002564102564100238| 0.3014553014553019|              0.56|0.038803216027415315|0.08356189431340282|0.05151922861307322|0.08906882591093117|0.14145322133487814|                    0.0|\n",
      "| 0.19487179487179299| 0.3243243243243246|              0.14| 0.11298273362330302| 0.1855915158164198|0.08829465186680122|0.17312512049354153|0.15743231127846513|                    0.0|\n",
      "| 0.11794871794871661|  0.322245322245323|              0.68| 0.08150784236193488|0.10129822636679466|0.04669806032066375|0.10468478889531521|0.25616198397263484|                    0.0|\n",
      "+--------------------+-------------------+------------------+--------------------+-------------------+-------------------+-------------------+-------------------+-----------------------+\n",
      "only showing top 5 rows\n",
      "\n",
      "+-------------------+-------------------+------------------+--------------------+--------------------+-------------------+--------------------+-------------------+-----------------------+\n",
      "|          longitude|           latitude|housing_median_age|         total_rooms|      total_bedrooms|         population|          households|      median_income|median_house_value_high|\n",
      "+-------------------+-------------------+------------------+--------------------+--------------------+-------------------+--------------------+-------------------+-----------------------+\n",
      "|0.22984749455337702| 0.5128479657387578|0.5098039215686274| 0.13890285057801394| 0.13079832769261399|0.12819652888404462| 0.12427864798021435| 0.4212769479041669|                    1.0|\n",
      "| 0.6383442265795212|0.17987152034261233|0.8235294117647058|0.053636820564371364|0.060919769062313354|0.06715854783264862| 0.05647155812036274|0.21372808650915162|                    0.0|\n",
      "| 0.6917211328976034|0.12847965738758055|0.5098039215686274| 0.12827601062683994| 0.10013935894883536|0.12375282971409408| 0.10140148392415499|0.36506393015268757|                    1.0|\n",
      "| 0.6318082788671026|0.13276231263383315|0.5294117647058824|0.001830975802398...| 0.00218992633884133|0.00343757860316928|0.001648804616652...|0.38868429400973786|                    1.0|\n",
      "|  0.489106753812636| 0.4014989293361883|0.3529411764705882|0.043979320743878794| 0.04778021102926538|0.07059612643581789|0.048227535037098104|0.16810802609619177|                    0.0|\n",
      "+-------------------+-------------------+------------------+--------------------+--------------------+-------------------+--------------------+-------------------+-----------------------+\n",
      "only showing top 5 rows\n",
      "\n"
     ]
    }
   ],
   "source": [
    "# Min max scaler\n",
    "from pyspark.ml.feature import MinMaxScaler\n",
    "from pyspark.ml.feature import VectorAssembler\n",
    "\n",
    "columns = [\"longitude\",\"latitude\",\"housing_median_age\",\"total_rooms\",\"total_bedrooms\",\"population\",\"households\",\"median_income\",\"median_house_value_high\"]\n",
    "\n",
    "# Function just to convert to help build data frame\n",
    "def extract(row):\n",
    "    return tuple(row.scaledFeatures.toArray().tolist())\n",
    "\n",
    "def min_max_scaler(sdf, cols_to_scale, cols_to_keep_unscaled):\n",
    "    scaler = MinMaxScaler(inputCol=\"features\", outputCol=\"scaledFeatures\")\n",
    "    assembler = VectorAssembler().setInputCols(cols_to_scale).setOutputCol(\"features\")\n",
    "    sdf_transformed = assembler.setHandleInvalid(\"skip\").transform(sdf)\n",
    "    scaler_model = scaler.fit(sdf_transformed.select(\"features\"))\n",
    "    sdf_scaled = scaler_model.transform(sdf_transformed)\n",
    "\n",
    "    sdf_scaled = sdf_scaled.select(*cols_to_keep_unscaled, \"scaledFeatures\").rdd \\\n",
    "            .map(extract).toDF(cols_to_keep_unscaled + cols_to_scale)\n",
    "    return sdf_scaled\n",
    "data_train = min_max_scaler(data_train, columns, [])\n",
    "data_train.show(5)\n",
    "data_test = min_max_scaler(data_test, columns, [])\n",
    "data_test.show(5)"
   ]
  },
  {
   "cell_type": "markdown",
   "id": "6c3d7d40",
   "metadata": {},
   "source": [
    "Chuyển dữ liệu từ số thập phân sang số nguyên \n"
   ]
  },
  {
   "cell_type": "code",
   "execution_count": 95,
   "id": "8d4bd280",
   "metadata": {},
   "outputs": [
    {
     "name": "stdout",
     "output_type": "stream",
     "text": [
      "+---------+--------+------------------+-----------+--------------+----------+----------+-------------+-----------------------+\n",
      "|longitude|latitude|housing_median_age|total_rooms|total_bedrooms|population|households|median_income|median_house_value_high|\n",
      "+---------+--------+------------------+-----------+--------------+----------+----------+-------------+-----------------------+\n",
      "|      102|     328|               420|        186|           214|        86|       213|          298|                      0|\n",
      "|       79|     278|               520|         71|            62|        26|        68|          586|                      1|\n",
      "|        2|     301|               560|         38|            83|        51|        89|          141|                      0|\n",
      "|      194|     324|               140|        112|           185|        88|       173|          157|                      0|\n",
      "|      117|     322|               680|         81|           101|        46|       104|          256|                      0|\n",
      "|      676|      49|               260|         37|            50|        22|        53|          262|                      0|\n",
      "|      294|      93|               280|         34|            35|        19|        42|          397|                      0|\n",
      "|      148|     193|                40|         61|            73|        39|        91|          402|                      0|\n",
      "|      289|     503|               520|         46|            55|        20|        49|          216|                      0|\n",
      "|       56|     253|               560|         41|            65|        37|        68|          197|                      0|\n",
      "|       74|     286|               340|         57|            72|        35|        64|          323|                      1|\n",
      "|      197|     295|               540|          3|             3|         1|         3|          830|                      0|\n",
      "|        0|     280|               740|         41|            66|        38|        69|          154|                      0|\n",
      "|       46|     297|               740|         52|            70|        28|        74|          286|                      0|\n",
      "|      199|     328|               100|        156|           195|        99|       205|          186|                      0|\n",
      "|      130|     230|               280|         89|            89|        34|        88|          392|                      1|\n",
      "|       20|     311|               680|         51|            66|        31|        71|          212|                      0|\n",
      "|        5|     274|               800|         52|            78|        29|        76|          220|                      0|\n",
      "|      276|      54|               260|         42|            68|        21|        65|          222|                      0|\n",
      "|        5|     297|               560|         47|           101|        51|        99|           86|                      0|\n",
      "+---------+--------+------------------+-----------+--------------+----------+----------+-------------+-----------------------+\n",
      "only showing top 20 rows\n",
      "\n",
      "+---------+--------+------------------+-----------+--------------+----------+----------+-------------+-----------------------+\n",
      "|longitude|latitude|housing_median_age|total_rooms|total_bedrooms|population|households|median_income|median_house_value_high|\n",
      "+---------+--------+------------------+-----------+--------------+----------+----------+-------------+-----------------------+\n",
      "|      229|     512|               509|        138|           130|       128|       124|          421|                      1|\n",
      "|      638|     179|               823|         53|            60|        67|        56|          213|                      0|\n",
      "|      691|     128|               509|        128|           100|       123|       101|          365|                      1|\n",
      "|      631|     132|               529|          1|             2|         3|         1|          388|                      1|\n",
      "|      489|     401|               352|         43|            47|        70|        48|          168|                      0|\n",
      "|      501|     420|               705|         35|            41|        54|        41|           80|                      0|\n",
      "|      297|     647|               823|         35|            43|        49|        44|           80|                      0|\n",
      "|      382|     310|               352|         82|            92|       111|        90|          187|                      0|\n",
      "|      143|     623|               274|        110|           122|       120|       122|          218|                      0|\n",
      "|      668|     160|               588|         85|           125|       236|       123|          126|                      0|\n",
      "|      644|     149|               862|         34|            48|       107|        53|          117|                      0|\n",
      "|      549|     350|               705|         25|            32|        46|        27|          132|                      0|\n",
      "|      242|     500|               686|         38|            35|        44|        34|          288|                      0|\n",
      "|      776|      41|               294|        140|           137|       161|       135|          280|                      0|\n",
      "|      674|     123|               509|         74|            63|       101|        67|          359|                      0|\n",
      "|      672|     131|               803|          5|             7|        12|         9|          117|                      0|\n",
      "|      364|     529|               274|         19|            23|        15|        21|           94|                      0|\n",
      "|      322|     654|               490|        109|           120|       133|       122|          152|                      0|\n",
      "|      575|     174|               490|         56|            38|        54|        40|          419|                      1|\n",
      "|      171|     581|               666|        315|           259|       288|       258|          391|                      1|\n",
      "+---------+--------+------------------+-----------+--------------+----------+----------+-------------+-----------------------+\n",
      "only showing top 20 rows\n",
      "\n"
     ]
    }
   ],
   "source": [
    "def transform(fields):\n",
    "    result = []\n",
    "    i = 0\n",
    "    for col in columns:\n",
    "        each_val = int(float(fields[i])*1000)\n",
    "        if col == \"median_house_value_high\":\n",
    "            each_val=int(each_val/1000)\n",
    "        i=i+1\n",
    "        result = result+[each_val]\n",
    "    return result\n",
    "data_train = data_train.rdd.map(lambda x: transform(x)).toDF(columns)\n",
    "data_test = data_test.rdd.map(lambda x: transform(x)).toDF(columns)\n",
    "data_train.show()\n",
    "data_test.show()"
   ]
  },
  {
   "cell_type": "code",
   "execution_count": 96,
   "id": "ac5f2092",
   "metadata": {},
   "outputs": [],
   "source": [
    "def sigmoid(z):\n",
    "    return 1.0 / (1.0 + np.exp(-z))"
   ]
  },
  {
   "cell_type": "code",
   "execution_count": 97,
   "id": "3f52a471",
   "metadata": {},
   "outputs": [],
   "source": [
    "def gradient_descent(X, theta, alpha, num_inters):\n",
    "    m = X.count()\n",
    "    for i in range(num_inters):\n",
    "        delta = X.map(lambda p: np.array(p[0])*(sigmoid(np.dot(np.array(p[0]), theta))-p[1])).reduce(lambda x, y: x+y)\n",
    "        theta -= delta*alpha/m\n",
    "    return theta"
   ]
  },
  {
   "cell_type": "code",
   "execution_count": 98,
   "id": "bed7a359",
   "metadata": {},
   "outputs": [],
   "source": [
    "def predict (X,theta):\n",
    "    prob = sigmoid(np.dot(X, theta))\n",
    "    return [1 if x >= 0.5 else 0 for x in prob]"
   ]
  },
  {
   "cell_type": "code",
   "execution_count": 99,
   "id": "8fb39536",
   "metadata": {},
   "outputs": [],
   "source": [
    "def score (X,theta):\n",
    "    rdd_kq = X.map(lambda x: (x[-1],sigmoid(np.dot(np.array(x[0:len(x)-1]),theta))))\n",
    "    rdd_kq = rdd_kq.map(lambda x: (x[0],1 if x[1]>=0.5 else 0))\n",
    "    rdd_acc = rdd_kq.map(lambda x: (1 if x[0] == x[1] else 0))\n",
    "\n",
    "    acc = rdd_acc.reduce(lambda a,b: a+b)/rdd_acc.count()\n",
    "    tp = rdd_kq.map(lambda x: 1 if (x[0] == 0 and x[1]==0) else 0).reduce(lambda a,b: a+b)\n",
    "    fp = rdd_kq.map(lambda x: 1 if (x[0] == 1 and x[1]==0) else 0).reduce(lambda a,b: a+b)\n",
    "    fn = rdd_kq.map(lambda x: 1 if (x[0] == 0 and x[1]==1) else 0).reduce(lambda a,b: a+b)\n",
    "    tn = rdd_kq.map(lambda x: 1 if (x[0] == 1 and x[1]==1) else 0).reduce(lambda a,b: a+b)\n",
    "    print (' True Positive : {0}'.format(tp))\n",
    "    print (' False Positive : {0}'.format(fp))\n",
    "    print (' False Negative : {0}'.format(fn))\n",
    "    print (' True Negative : {0}'.format(tn))\n",
    "    lo_cm = np.array([[tp,fn],[fp,tn]])\n",
    "    precision = tp/(tp+fp)\n",
    "    recall = tp/(tp+fn)\n",
    "    f1_score = 2*precision*recall/(precision+recall)\n",
    "    return acc, lo_cm, precision, recall, f1_score"
   ]
  },
  {
   "cell_type": "code",
   "execution_count": 100,
   "id": "038c0171",
   "metadata": {},
   "outputs": [
    {
     "name": "stdout",
     "output_type": "stream",
     "text": [
      "Total run-time of logistics regression: 0.052450 h\n"
     ]
    }
   ],
   "source": [
    "import time\n",
    "import pandas as pd\n",
    "import numpy as np\n",
    "theta = np.zeros(len(data_train.columns)-1)\n",
    "start_time = time.time()\n",
    "result= data_train.rdd.map(list).map(lambda p: (p[0:len(p)-1],p[-1]))\n",
    "theta = gradient_descent(result,theta,0.1,100)\n",
    "end_time = time.time()\n",
    "print ('Total run-time of logistics regression: %f h' % ((end_time - start_time) /3600 ))"
   ]
  },
  {
   "cell_type": "code",
   "execution_count": 101,
   "id": "0a30c0a6",
   "metadata": {},
   "outputs": [
    {
     "name": "stdout",
     "output_type": "stream",
     "text": [
      " True Positive : 753\n",
      " False Positive : 226\n",
      " False Negative : 1\n",
      " True Negative : 20\n",
      "Logistics Regression Accuracy Score: 0.773\n",
      "Precision: 0.7691521961184883\n",
      "Recall: 0.9986737400530504\n",
      "F1-score: 0.8690132717830352\n"
     ]
    }
   ],
   "source": [
    "acc,lo_cm, precision, recall, f1_score = score(data_test.rdd,theta)\n",
    "print ('Logistics Regression Accuracy Score: {0}'.format(acc))\n",
    "print ('Precision: {0}'.format(precision))\n",
    "print ('Recall: {0}'.format(recall))\n",
    "print ('F1-score: {0}'.format(f1_score))"
   ]
  },
  {
   "cell_type": "markdown",
   "id": "35d2d38e",
   "metadata": {},
   "source": [
    "Tiến hành vẽ ma trận nghịch đảo "
   ]
  },
  {
   "cell_type": "code",
   "execution_count": 102,
   "id": "a333cde7",
   "metadata": {},
   "outputs": [
    {
     "data": {
      "text/plain": [
       "Text(0.5, 1.0, 'Logistics Regression Accuracy Score: 0.773')"
      ]
     },
     "execution_count": 102,
     "metadata": {},
     "output_type": "execute_result"
    },
    {
     "data": {
      "image/png": "[encoded data removed]",
      "text/plain": [
       "<Figure size 864x864 with 2 Axes>"
      ]
     },
     "metadata": {},
     "output_type": "display_data"
    }
   ],
   "source": [
    "plt.figure(figsize=(12, 12))\n",
    "sns.heatmap(lo_cm, annot=True, fmt=\".0f\", linewidths=.5, square=True, cmap=\"Blues\")\n",
    "plt.ylabel(\"Actual label\")\n",
    "plt.xlabel(\"Predict label\")\n",
    "title = \"Logistics Regression Accuracy Score: {0}\".format(acc)\n",
    "plt.title(title, size = 15)"
   ]
  }
 ],
 "metadata": {
  "interpreter": {
   "hash": "4b96317a5e104a3a993dd7e6da82f66e3f1373aa1ea900ad78f53568c8161e39"
  },
  "kernelspec": {
   "display_name": "Python 3.10.4 64-bit",
   "language": "python",
   "name": "python3"
  },
  "language_info": {
   "codemirror_mode": {
    "name": "ipython",
    "version": 3
   },
   "file_extension": ".py",
   "mimetype": "text/x-python",
   "name": "python",
   "nbconvert_exporter": "python",
   "pygments_lexer": "ipython3",
   "version": "3.10.4"
  }
 },
 "nbformat": 4,
 "nbformat_minor": 5
}
